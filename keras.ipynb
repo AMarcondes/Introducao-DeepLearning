{
 "cells": [
  {
   "cell_type": "markdown",
   "metadata": {},
   "source": [
    "# Keras\n",
    "Fonte: https://machinelearningmastery.com/gentle-introduction-mini-batch-gradient-descent-configure-batch-size/\n",
    "https://machinelearningmastery.com/implement-linear-regression-stochastic-gradient-descent-scratch-python/\n",
    "https://machinelearningmastery.com/how-to-control-the-speed-and-stability-of-training-neural-networks-with-gradient-descent-batch-size/\n",
    "https://machinelearningmastery.com/how-to-choose-loss-functions-when-training-deep-learning-neural-networks/"
   ]
  },
  {
   "cell_type": "code",
   "execution_count": 13,
   "metadata": {},
   "outputs": [],
   "source": [
    "#!pip install keras "
   ]
  },
  {
   "cell_type": "code",
   "execution_count": 169,
   "metadata": {},
   "outputs": [
    {
     "name": "stdout",
     "output_type": "stream",
     "text": [
      "Versão Keras : 2.2.4-tf\n",
      "Versão Tensorflow : 2.1.0\n"
     ]
    }
   ],
   "source": [
    "import tensorflow.keras as keras; \n",
    "import tensorflow as tf; \n",
    "\n",
    "import numpy as np\n",
    "import pandas as pd\n",
    "from matplotlib import pyplot\n",
    "\n",
    "from tensorflow.keras import backend as K\n",
    "from tensorflow.keras.models import Sequential, load_model\n",
    "from tensorflow.keras.layers import Dense, Flatten, Dropout, Activation, Conv2D, MaxPooling2D\n",
    "from tensorflow.keras.wrappers.scikit_learn import KerasClassifier\n",
    "\n",
    "\n",
    "from sklearn.datasets import make_regression\n",
    "from sklearn.preprocessing import MinMaxScaler\n",
    "\n",
    "print(\"Versão Keras :\" , keras.__version__)\n",
    "print(\"Versão Tensorflow :\" , tf.__version__)"
   ]
  },
  {
   "cell_type": "markdown",
   "metadata": {},
   "source": [
    "## Passos para criar uma rede Neural usando Keras\n",
    "* Preparação dos dados de entrada e saída\n",
    "* Normalização\n",
    "* Definição das camadas de Entrada e Saída\n",
    "    * Definição depende da natureza do problema: regressão, classificação, multilabel, multiclasse, etec\n",
    "* Definição das camadas escondidas\n",
    "    * Busca por hiperparâmetros\n",
    "* Compilação\n",
    "* Execução\n",
    "* Avaliação\n",
    "* Colocar em produção\n",
    "    * Salvar pesos da Rede Neural Treinada\n",
    "    * Recuperar pesos para realizar inferência\n",
    "    * Paralelizar processo de inferência\n"
   ]
  },
  {
   "cell_type": "markdown",
   "metadata": {},
   "source": []
  },
  {
   "cell_type": "markdown",
   "metadata": {},
   "source": [
    "* A estrutura de dados principal do Keras é o objeto <strong>model</strong> \n",
    "\n",
    "* O tipo mais simples de modelo é o <strong>Sequential</strong> (pilha linear de camadas). \n",
    "\n",
    "* Outros recursos da API Keras permite criar gráfos arbitrários de camadas."
   ]
  },
  {
   "cell_type": "code",
   "execution_count": 122,
   "metadata": {},
   "outputs": [],
   "source": [
    "model = Sequential()"
   ]
  },
  {
   "cell_type": "markdown",
   "metadata": {},
   "source": [
    "* Empilhando camadas (método add)"
   ]
  },
  {
   "cell_type": "code",
   "execution_count": 119,
   "metadata": {},
   "outputs": [],
   "source": [
    "model.add(Dense(units=64, activation='relu', input_dim=100))\n",
    "model.add(Dense(units=10, activation='softmax'))"
   ]
  },
  {
   "cell_type": "markdown",
   "metadata": {},
   "source": []
  },
  {
   "cell_type": "markdown",
   "metadata": {},
   "source": [
    "* Keras pode ser montado com suporte de Tensorflow, Theano e CNTK\n",
    "\n",
    "* Keras oferece suporte quanto ao uso de várias GPUs e treinamento distribuído (Horovod)\n",
    "\n",
    "* Os modelos Keras podem ser transformados em estimadores de TensorFlow e treinados em clusters de GPUs no Google Cloud\n",
    "\n",
    "* Keras pode ser executado no Spark via Dist-Keras (do CERN) e Elephas"
   ]
  },
  {
   "cell_type": "markdown",
   "metadata": {},
   "source": [
    "## Especificando formato da entrada\n",
    "\n",
    "* O modelo precisa saber que formato de entrada será recebido. Esse formato é definido na primeira camada em um modelo Sequential, as camadas subsequentes definem a entrada e saída de acordo com os parâmetros da Rede Neural.\n",
    "\n",
    "* Como definir o formato de entrada:\n",
    "\n",
    "    * Argumento <strong>input_shape</strong> na primeira camada. Essa é uma tupla de forma (uma tupla de números inteiros ou Nenhuma, em que Nenhuma indica que qualquer número inteiro positivo pode ser esperado). Em input_shape, a dimensão do lote não está incluída.\n",
    "\n",
    "    * Algumas camadas 2D, como Dense, permitem a especificação de sua forma de entrada por meio do argumento <strong>input_dim</strong>, e algumas camadas temporais 3D suportam os argumentos <strong>input_dim</strong> e <strong>input_length</strong>.\n"
   ]
  },
  {
   "cell_type": "code",
   "execution_count": 123,
   "metadata": {},
   "outputs": [],
   "source": [
    "model.add(Dense(units=64, activation='relu', input_dim=100))"
   ]
  },
  {
   "cell_type": "code",
   "execution_count": 124,
   "metadata": {},
   "outputs": [],
   "source": [
    "model.add(Dense(units=64, activation='relu', input_shape=(100,)))"
   ]
  },
  {
   "cell_type": "markdown",
   "metadata": {},
   "source": [
    "## Compilação\n",
    "\n",
    "Antes de treinar um modelo, você precisa configurar o processo de aprendizado, que é feito pelo método de compilação. \n",
    "\n",
    "Ele recebe três argumentos:\n",
    "\n",
    "* <strong>optimizer</strong> (Otimizador). Pode ser o identificador de sequência de um otimizador existente (como por exemplos rmsprop ou adagrad) ou uma instância da classe Optimizer.\n",
    "\n",
    "* <strong>loss</strong> (função de perda). Esse é o objetivo que o modelo tentará minimizar. Pode ser o identificador de cadeia de uma função de perda existente (como categorical_crossentropy ou mse) ou pode ser uma função objetiva. \n",
    "\n",
    "* <strong>metrics</strong> (lista de métricas). Para qualquer problema de classificação, você desejará definir isso como métricas = ['precisão']. Uma métrica pode ser o identificador de sequência de uma métrica existente ou uma função de métrica personalizada.\n"
   ]
  },
  {
   "cell_type": "markdown",
   "metadata": {},
   "source": [
    "* Exemplo de compilação"
   ]
  },
  {
   "cell_type": "code",
   "execution_count": null,
   "metadata": {},
   "outputs": [],
   "source": [
    "model.compile(loss='categorical_crossentropy',\n",
    "              optimizer='sgd',\n",
    "              metrics=['accuracy'])"
   ]
  },
  {
   "cell_type": "markdown",
   "metadata": {},
   "source": [
    "* Loss para multiclasse"
   ]
  },
  {
   "cell_type": "code",
   "execution_count": null,
   "metadata": {},
   "outputs": [],
   "source": [
    "# For a multi-class classification problem\n",
    "model.compile(optimizer='rmsprop',\n",
    "              loss='categorical_crossentropy',\n",
    "              metrics=['accuracy'])"
   ]
  },
  {
   "cell_type": "markdown",
   "metadata": {},
   "source": [
    "* Loss para classificação binária"
   ]
  },
  {
   "cell_type": "code",
   "execution_count": null,
   "metadata": {},
   "outputs": [],
   "source": [
    "# For a binary classification problem\n",
    "model.compile(optimizer='rmsprop',\n",
    "              loss='binary_crossentropy',\n",
    "              metrics=['accuracy'])"
   ]
  },
  {
   "cell_type": "markdown",
   "metadata": {},
   "source": [
    "* Loss para regressão"
   ]
  },
  {
   "cell_type": "code",
   "execution_count": 90,
   "metadata": {},
   "outputs": [],
   "source": [
    "# For a mean squared error regression problem\n",
    "model.compile(optimizer='rmsprop',\n",
    "              loss='mse')"
   ]
  },
  {
   "cell_type": "markdown",
   "metadata": {},
   "source": [
    "* Métrica customizada"
   ]
  },
  {
   "cell_type": "code",
   "execution_count": 126,
   "metadata": {},
   "outputs": [],
   "source": [
    "def mean_pred(y_true, y_pred):\n",
    "    return K.mean(y_pred)\n",
    "\n",
    "model.compile(optimizer='rmsprop',\n",
    "              loss='binary_crossentropy',\n",
    "              metrics=['accuracy', mean_pred])"
   ]
  },
  {
   "cell_type": "markdown",
   "metadata": {},
   "source": [
    "## Treinando um modelo\n",
    "\n",
    "* Os modelos Keras são treinados em matrizes Numpy de dados e rótulos de entrada. \n",
    "\n",
    "* Para treinar um modelo, você normalmente usa a função <strong>fit</strong>\n",
    "\n",
    "* <strong>x</strong>: Matrix com amostrar para treinar o modelo (N dimensões)\n",
    "\n",
    "* <strong>y</strong>: valor a ser predito (associado com cada amostra x)\n",
    "\n",
    "* <strong>batch_size</strong>: Número de amostras por atualização de gradiente.\n",
    "\n",
    "* <strong>Épocas</strong>: Número de épocas para treinar o modelo. Uma época é uma iteração sobre todos os dados x e y fornecidos. \n",
    "\n",
    "* <strong>verbose</strong>: monitora execução do modelo. 0 = silencioso, 1 = barra de progresso, 2 = uma linha por época."
   ]
  },
  {
   "cell_type": "markdown",
   "metadata": {},
   "source": [
    "## Teste de rede Neural com duas classes"
   ]
  },
  {
   "cell_type": "code",
   "execution_count": 131,
   "metadata": {},
   "outputs": [
    {
     "name": "stdout",
     "output_type": "stream",
     "text": [
      "Train on 1000 samples\n",
      "Epoch 1/10\n",
      "1000/1000 [==============================] - 0s 399us/sample - loss: 0.6962 - accuracy: 0.5280\n",
      "Epoch 2/10\n",
      "1000/1000 [==============================] - 0s 153us/sample - loss: 0.6902 - accuracy: 0.5220\n",
      "Epoch 3/10\n",
      "1000/1000 [==============================] - 0s 154us/sample - loss: 0.6864 - accuracy: 0.5400\n",
      "Epoch 4/10\n",
      "1000/1000 [==============================] - 0s 153us/sample - loss: 0.6826 - accuracy: 0.5490\n",
      "Epoch 5/10\n",
      "1000/1000 [==============================] - 0s 151us/sample - loss: 0.6804 - accuracy: 0.5600\n",
      "Epoch 6/10\n",
      "1000/1000 [==============================] - 0s 146us/sample - loss: 0.6768 - accuracy: 0.5660\n",
      "Epoch 7/10\n",
      "1000/1000 [==============================] - 0s 147us/sample - loss: 0.6767 - accuracy: 0.5880\n",
      "Epoch 8/10\n",
      "1000/1000 [==============================] - 0s 150us/sample - loss: 0.6718 - accuracy: 0.5990\n",
      "Epoch 9/10\n",
      "1000/1000 [==============================] - 0s 153us/sample - loss: 0.6690 - accuracy: 0.6130\n",
      "Epoch 10/10\n",
      "1000/1000 [==============================] - 0s 152us/sample - loss: 0.6668 - accuracy: 0.6220\n"
     ]
    }
   ],
   "source": [
    "#Topologia da Rede Neural\n",
    "\n",
    "model = Sequential()\n",
    "model.add(Dense(32, activation='relu', input_dim=100))\n",
    "model.add(Dense(1, activation='sigmoid'))\n",
    "\n",
    "#Compilando o modelo\n",
    "model.compile(optimizer='rmsprop',\n",
    "              loss='binary_crossentropy',\n",
    "              metrics=['accuracy'])\n",
    "\n",
    "# Gerando dados aleatórios\n",
    "import numpy as np\n",
    "data = np.random.random((1000, 100))\n",
    "labels = np.random.randint(2, size=(1000, 1))\n",
    "\n",
    "#Treinando o modelo usando 10 época e 32 amostrar para atualização do gradiente\n",
    "history = model.fit(data, labels, epochs=10, batch_size=32)"
   ]
  },
  {
   "cell_type": "code",
   "execution_count": null,
   "metadata": {},
   "outputs": [],
   "source": []
  },
  {
   "cell_type": "markdown",
   "metadata": {},
   "source": [
    "## Avaliando desempenho do modelo treinado\n",
    "\n",
    "* função evaluate que mostra o calos de loss e acurácia após o treino\n",
    "* As métricas mais elementares são a curva de loss e a curva da métrica usada"
   ]
  },
  {
   "cell_type": "code",
   "execution_count": 137,
   "metadata": {},
   "outputs": [
    {
     "name": "stdout",
     "output_type": "stream",
     "text": [
      "1000/1000 [==============================] - 0s 82us/sample - loss: 0.6606 - accuracy: 0.6290\n",
      "[0.6605625400543212, 0.629]\n"
     ]
    },
    {
     "data": {
      "text/plain": [
       "[Text(0.5, 15.000000000000028, 'Época')]"
      ]
     },
     "execution_count": 137,
     "metadata": {},
     "output_type": "execute_result"
    },
    {
     "data": {
      "image/png": "[encoded data removed]",
      "text/plain": [
       "<Figure size 432x288 with 2 Axes>"
      ]
     },
     "metadata": {
      "needs_background": "light"
     },
     "output_type": "display_data"
    }
   ],
   "source": [
    "score = model.evaluate(data, labels)\n",
    "print(score)\n",
    "\n",
    "fig, axs = pyplot.subplots(2)\n",
    "\n",
    "fig.tight_layout(pad=3.0)\n",
    "\n",
    "x=history.history['accuracy']\n",
    "axs[0].plot(x)\n",
    "axs[0].set_title('Acurácia')\n",
    "axs[0].set(xlabel='Época')\n",
    "\n",
    "x=history.history['loss']\n",
    "axs[1].plot(x)\n",
    "axs[1].set_title('Loss')\n",
    "axs[1].set(xlabel='Época')"
   ]
  },
  {
   "cell_type": "markdown",
   "metadata": {},
   "source": [
    "## Realizando predições com o modelo\n",
    "* função predict"
   ]
  },
  {
   "cell_type": "code",
   "execution_count": 142,
   "metadata": {},
   "outputs": [
    {
     "data": {
      "text/plain": [
       "array([[0.46630642],\n",
       "       [0.47576216],\n",
       "       [0.48996532],\n",
       "       [0.3830596 ],\n",
       "       [0.56318706]], dtype=float32)"
      ]
     },
     "execution_count": 142,
     "metadata": {},
     "output_type": "execute_result"
    }
   ],
   "source": [
    "model.predict(data[:5])"
   ]
  },
  {
   "cell_type": "code",
   "execution_count": null,
   "metadata": {},
   "outputs": [],
   "source": []
  },
  {
   "cell_type": "markdown",
   "metadata": {},
   "source": [
    "## Salvando pesos da rede neural\n",
    "* Usando pesos de uma rede neural treinada para realizar inferência\n"
   ]
  },
  {
   "cell_type": "code",
   "execution_count": 143,
   "metadata": {},
   "outputs": [],
   "source": [
    "model.save('model.h5')  # creates a HDF5 file 'my_model.h5'"
   ]
  },
  {
   "cell_type": "markdown",
   "metadata": {},
   "source": [
    "* carregando pesos salvos"
   ]
  },
  {
   "cell_type": "code",
   "execution_count": 144,
   "metadata": {},
   "outputs": [],
   "source": [
    "model = load_model('model.h5')"
   ]
  },
  {
   "cell_type": "markdown",
   "metadata": {},
   "source": [
    "## Exemplo de rede neural para regressão"
   ]
  },
  {
   "cell_type": "code",
   "execution_count": 161,
   "metadata": {},
   "outputs": [
    {
     "name": "stdout",
     "output_type": "stream",
     "text": [
      "Train on 1000 samples\n",
      "Epoch 1/50\n",
      "1000/1000 [==============================] - 0s 311us/sample - loss: 0.2614 - mse: 0.2614\n",
      "Epoch 2/50\n",
      "1000/1000 [==============================] - 0s 132us/sample - loss: 0.2252 - mse: 0.2252\n",
      "Epoch 3/50\n",
      "1000/1000 [==============================] - 0s 132us/sample - loss: 0.1977 - mse: 0.1977\n",
      "Epoch 4/50\n",
      "1000/1000 [==============================] - 0s 134us/sample - loss: 0.1738 - mse: 0.1738\n",
      "Epoch 5/50\n",
      "1000/1000 [==============================] - 0s 133us/sample - loss: 0.1523 - mse: 0.1523\n",
      "Epoch 6/50\n",
      "1000/1000 [==============================] - 0s 139us/sample - loss: 0.1291 - mse: 0.1291\n",
      "Epoch 7/50\n",
      "1000/1000 [==============================] - 0s 133us/sample - loss: 0.1024 - mse: 0.1024\n",
      "Epoch 8/50\n",
      "1000/1000 [==============================] - 0s 134us/sample - loss: 0.0734 - mse: 0.0734\n",
      "Epoch 9/50\n",
      "1000/1000 [==============================] - 0s 134us/sample - loss: 0.0427 - mse: 0.0427\n",
      "Epoch 10/50\n",
      "1000/1000 [==============================] - 0s 134us/sample - loss: 0.0191 - mse: 0.0191\n",
      "Epoch 11/50\n",
      "1000/1000 [==============================] - 0s 134us/sample - loss: 0.0136 - mse: 0.0136\n",
      "Epoch 12/50\n",
      "1000/1000 [==============================] - 0s 134us/sample - loss: 0.0130 - mse: 0.0130\n",
      "Epoch 13/50\n",
      "1000/1000 [==============================] - 0s 135us/sample - loss: 0.0124 - mse: 0.0124\n",
      "Epoch 14/50\n",
      "1000/1000 [==============================] - 0s 134us/sample - loss: 0.0118 - mse: 0.0118\n",
      "Epoch 15/50\n",
      "1000/1000 [==============================] - 0s 133us/sample - loss: 0.0113 - mse: 0.0113\n",
      "Epoch 16/50\n",
      "1000/1000 [==============================] - 0s 131us/sample - loss: 0.0108 - mse: 0.0108\n",
      "Epoch 17/50\n",
      "1000/1000 [==============================] - 0s 132us/sample - loss: 0.0103 - mse: 0.0103\n",
      "Epoch 18/50\n",
      "1000/1000 [==============================] - 0s 133us/sample - loss: 0.0099 - mse: 0.0099\n",
      "Epoch 19/50\n",
      "1000/1000 [==============================] - 0s 133us/sample - loss: 0.0094 - mse: 0.0094\n",
      "Epoch 20/50\n",
      "1000/1000 [==============================] - 0s 132us/sample - loss: 0.0090 - mse: 0.0090\n",
      "Epoch 21/50\n",
      "1000/1000 [==============================] - 0s 132us/sample - loss: 0.0085 - mse: 0.0085\n",
      "Epoch 22/50\n",
      "1000/1000 [==============================] - 0s 133us/sample - loss: 0.0080 - mse: 0.0080\n",
      "Epoch 23/50\n",
      "1000/1000 [==============================] - 0s 133us/sample - loss: 0.0076 - mse: 0.0076\n",
      "Epoch 24/50\n",
      "1000/1000 [==============================] - 0s 134us/sample - loss: 0.0072 - mse: 0.0072\n",
      "Epoch 25/50\n",
      "1000/1000 [==============================] - 0s 140us/sample - loss: 0.0067 - mse: 0.0067\n",
      "Epoch 26/50\n",
      "1000/1000 [==============================] - 0s 137us/sample - loss: 0.0062 - mse: 0.0062\n",
      "Epoch 27/50\n",
      "1000/1000 [==============================] - 0s 134us/sample - loss: 0.0058 - mse: 0.0058\n",
      "Epoch 28/50\n",
      "1000/1000 [==============================] - 0s 135us/sample - loss: 0.0054 - mse: 0.0054\n",
      "Epoch 29/50\n",
      "1000/1000 [==============================] - 0s 132us/sample - loss: 0.0049 - mse: 0.0049\n",
      "Epoch 30/50\n",
      "1000/1000 [==============================] - 0s 133us/sample - loss: 0.0045 - mse: 0.0045\n",
      "Epoch 31/50\n",
      "1000/1000 [==============================] - 0s 133us/sample - loss: 0.0041 - mse: 0.0041\n",
      "Epoch 32/50\n",
      "1000/1000 [==============================] - 0s 132us/sample - loss: 0.0038 - mse: 0.0038\n",
      "Epoch 33/50\n",
      "1000/1000 [==============================] - 0s 133us/sample - loss: 0.0034 - mse: 0.0034\n",
      "Epoch 34/50\n",
      "1000/1000 [==============================] - 0s 134us/sample - loss: 0.0030 - mse: 0.0030\n",
      "Epoch 35/50\n",
      "1000/1000 [==============================] - 0s 134us/sample - loss: 0.0027 - mse: 0.0027\n",
      "Epoch 36/50\n",
      "1000/1000 [==============================] - 0s 133us/sample - loss: 0.0024 - mse: 0.0024\n",
      "Epoch 37/50\n",
      "1000/1000 [==============================] - 0s 134us/sample - loss: 0.0021 - mse: 0.0021\n",
      "Epoch 38/50\n",
      "1000/1000 [==============================] - 0s 132us/sample - loss: 0.0018 - mse: 0.0018\n",
      "Epoch 39/50\n",
      "1000/1000 [==============================] - 0s 136us/sample - loss: 0.0016 - mse: 0.0016\n",
      "Epoch 40/50\n",
      "1000/1000 [==============================] - 0s 133us/sample - loss: 0.0013 - mse: 0.0013\n",
      "Epoch 41/50\n",
      "1000/1000 [==============================] - 0s 135us/sample - loss: 0.0011 - mse: 0.0011\n",
      "Epoch 42/50\n",
      "1000/1000 [==============================] - 0s 134us/sample - loss: 9.4746e-04 - mse: 9.4746e-04\n",
      "Epoch 43/50\n",
      "1000/1000 [==============================] - 0s 135us/sample - loss: 7.8264e-04 - mse: 7.8264e-04\n",
      "Epoch 44/50\n",
      "1000/1000 [==============================] - 0s 137us/sample - loss: 6.5156e-04 - mse: 6.5156e-04\n",
      "Epoch 45/50\n",
      "1000/1000 [==============================] - 0s 135us/sample - loss: 5.3136e-04 - mse: 5.3136e-04\n",
      "Epoch 46/50\n",
      "1000/1000 [==============================] - 0s 134us/sample - loss: 4.3264e-04 - mse: 4.3264e-04\n",
      "Epoch 47/50\n",
      "1000/1000 [==============================] - 0s 134us/sample - loss: 3.4973e-04 - mse: 3.4973e-04\n",
      "Epoch 48/50\n",
      "1000/1000 [==============================] - 0s 129us/sample - loss: 2.8329e-04 - mse: 2.8329e-04\n",
      "Epoch 49/50\n",
      "1000/1000 [==============================] - 0s 130us/sample - loss: 2.3075e-04 - mse: 2.3075e-04\n",
      "Epoch 50/50\n",
      "1000/1000 [==============================] - 0s 141us/sample - loss: 1.8782e-04 - mse: 1.8782e-04\n"
     ]
    }
   ],
   "source": [
    "\n",
    "\n",
    "#gerando dados de regressão\n",
    "X, y = make_regression(n_samples=1000, n_features=2, noise=0.1, random_state=1)\n",
    "\n",
    "scalarX, scalarY = MinMaxScaler(), MinMaxScaler()\n",
    "scalarX.fit(X)\n",
    "scalarY.fit(y.reshape(1000,1))\n",
    "\n",
    "X = scalarX.transform(X)\n",
    "y = scalarY.transform(y.reshape(1000,1))\n",
    "\n",
    "# define and fit the final model\n",
    "model = Sequential()\n",
    "model.add(Dense(4, input_dim=2, activation='relu'))\n",
    "model.add(Dense(4, activation='relu'))\n",
    "model.add(Dense(1, activation='linear'))\n",
    "model.compile(loss='mse', optimizer='adam', metrics=['mse'])\n",
    "\n",
    "history = model.fit(X, y, epochs=50, verbose=1)\n"
   ]
  },
  {
   "cell_type": "code",
   "execution_count": 158,
   "metadata": {},
   "outputs": [
    {
     "name": "stdout",
     "output_type": "stream",
     "text": [
      "{'loss': [0.1902032701969147, 0.1339064164161682, 0.0852323670387268, 0.048926315248012546, 0.025808064464479686, 0.014475880917161702, 0.010042559541761874, 0.008428716290742159, 0.007669945746660233, 0.007171256899833679, 0.0067645530328154565, 0.006412370286881923, 0.005971114307641983, 0.005496215470135212, 0.00494727580063045, 0.004262407671660185, 0.0034050717540085314, 0.0024925297885201874, 0.001686805073171854, 0.0011125111611327157, 0.0007412332868552767, 0.0004735129103064537, 0.0003314417035289807, 0.00025246782282192727, 0.00019912061508512124, 0.00016039748048933688, 0.0001292264222392987, 0.00011043401491497207, 9.656168166111456e-05, 8.205338211701019e-05, 7.225997888599523e-05, 6.342588197821897e-05, 5.4294421253644034e-05, 4.6818773496852375e-05, 3.9810883352856764e-05, 3.412112703563252e-05, 3.0031160965336313e-05, 2.6315197681469726e-05, 2.294166839283207e-05, 2.0435616534086876e-05, 1.858349189274122e-05, 1.6720245238502685e-05, 1.543182698378587e-05, 1.4128142149274937e-05, 1.348028009169866e-05, 1.199555414950737e-05, 1.0956776987541162e-05, 1.0060470566713776e-05, 9.390133882561712e-06, 8.692600349718305e-06]}\n"
     ]
    }
   ],
   "source": [
    "print(history.history)"
   ]
  },
  {
   "cell_type": "code",
   "execution_count": 162,
   "metadata": {},
   "outputs": [
    {
     "name": "stdout",
     "output_type": "stream",
     "text": [
      "1000/1000 [==============================] - 0s 110us/sample - loss: 1.6648e-04 - mse: 1.6648e-04\n",
      "[0.00016648387769237162, 0.0001664839]\n"
     ]
    },
    {
     "data": {
      "text/plain": [
       "[Text(0.5, 15.000000000000028, 'Época')]"
      ]
     },
     "execution_count": 162,
     "metadata": {},
     "output_type": "execute_result"
    },
    {
     "data": {
      "image/png": "[encoded data removed]",
      "text/plain": [
       "<Figure size 432x288 with 2 Axes>"
      ]
     },
     "metadata": {
      "needs_background": "light"
     },
     "output_type": "display_data"
    }
   ],
   "source": [
    "score = model.evaluate(X, y)\n",
    "print(score)\n",
    "\n",
    "fig, axs = pyplot.subplots(2)\n",
    "\n",
    "fig.tight_layout(pad=3.0)\n",
    "\n",
    "x=history.history['mse']\n",
    "axs[0].plot(x)\n",
    "axs[0].set_title('mse')\n",
    "axs[0].set(xlabel='Época')\n",
    "\n",
    "x=history.history['loss']\n",
    "axs[1].plot(x)\n",
    "axs[1].set_title('Loss')\n",
    "axs[1].set(xlabel='Época')"
   ]
  },
  {
   "cell_type": "markdown",
   "metadata": {},
   "source": [
    "## Teste de Rede Neural com N-classes"
   ]
  },
  {
   "cell_type": "code",
   "execution_count": 130,
   "metadata": {},
   "outputs": [
    {
     "name": "stdout",
     "output_type": "stream",
     "text": [
      "Train on 10000 samples\n",
      "Epoch 1/10\n",
      "10000/10000 [==============================] - 2s 155us/sample - loss: 2.3088 - accuracy: 0.1006\n",
      "Epoch 2/10\n",
      "10000/10000 [==============================] - 1s 136us/sample - loss: 2.3029 - accuracy: 0.1024\n",
      "Epoch 3/10\n",
      "10000/10000 [==============================] - 1s 136us/sample - loss: 2.3030 - accuracy: 0.1036\n",
      "Epoch 4/10\n",
      "10000/10000 [==============================] - 1s 135us/sample - loss: 2.3028 - accuracy: 0.1032\n",
      "Epoch 5/10\n",
      "10000/10000 [==============================] - 1s 138us/sample - loss: 2.3029 - accuracy: 0.1051\n",
      "Epoch 6/10\n",
      "10000/10000 [==============================] - 1s 139us/sample - loss: 2.3023 - accuracy: 0.1056\n",
      "Epoch 7/10\n",
      "10000/10000 [==============================] - 1s 137us/sample - loss: 2.3023 - accuracy: 0.1056\n",
      "Epoch 8/10\n",
      "10000/10000 [==============================] - 1s 139us/sample - loss: 2.3023 - accuracy: 0.1050\n",
      "Epoch 9/10\n",
      "10000/10000 [==============================] - 1s 140us/sample - loss: 2.3023 - accuracy: 0.1056\n",
      "Epoch 10/10\n",
      "10000/10000 [==============================] - 1s 138us/sample - loss: 2.3023 - accuracy: 0.1017\n"
     ]
    },
    {
     "data": {
      "text/plain": [
       "<tensorflow.python.keras.callbacks.History at 0x7fddfc6b5590>"
      ]
     },
     "execution_count": 130,
     "metadata": {},
     "output_type": "execute_result"
    }
   ],
   "source": [
    "# For a single-input model with 10 classes (categorical classification):\n",
    "\n",
    "model = Sequential()\n",
    "model.add(Dense(32, activation='relu', input_dim=1000))\n",
    "model.add(Dense(10, activation='softmax'))\n",
    "model.compile(optimizer='rmsprop',\n",
    "              loss='categorical_crossentropy',\n",
    "              metrics=['accuracy'])\n",
    "\n",
    "# Generate dummy data\n",
    "import numpy as np\n",
    "data = np.random.random((10000, 1000))\n",
    "labels = np.random.randint(10, size=(10000, 1))\n",
    "\n",
    "# Convertendo labels em categorias one-hot encoding\n",
    "one_hot_labels = keras.utils.to_categorical(labels, num_classes=10)\n",
    "\n",
    "model.fit(data, one_hot_labels, epochs=10, batch_size=32)"
   ]
  },
  {
   "cell_type": "markdown",
   "metadata": {},
   "source": [
    "## Escolhendo parâmetros da Rede Neural\n",
    "* Uma técnica para lidar com a complexidade de parâmetros é o processo de busca por hiperparâmetros automatizado (Usando scikit-learn por exemplo)"
   ]
  },
  {
   "cell_type": "code",
   "execution_count": 194,
   "metadata": {},
   "outputs": [],
   "source": [
    "# Readying neural network model\n",
    "def build_nn(activation = 'relu', optimizer = 'Adam'):\n",
    "   \n",
    "    model = Sequential()\n",
    "    model.add(Dense(12, input_dim=8, activation='relu'))\n",
    "    model.add(Dense(128, activation=activation))\n",
    "    model.add(Dense(1, activation='sigmoid'))\n",
    "    \n",
    "    # Compile model\n",
    "    model.compile(loss='binary_crossentropy', optimizer=optimizer, metrics=['accuracy'])\n",
    "    return model"
   ]
  },
  {
   "cell_type": "code",
   "execution_count": 195,
   "metadata": {},
   "outputs": [
    {
     "name": "stdout",
     "output_type": "stream",
     "text": [
      "Train on 768 samples\n",
      "Epoch 1/15\n",
      "768/768 [==============================] - 1s 703us/sample - loss: 1.4699 - accuracy: 0.4427\n",
      "Epoch 2/15\n",
      "768/768 [==============================] - 0s 24us/sample - loss: 0.9745 - accuracy: 0.4870\n",
      "Epoch 3/15\n",
      "768/768 [==============================] - 0s 30us/sample - loss: 0.8508 - accuracy: 0.5482\n",
      "Epoch 4/15\n",
      "768/768 [==============================] - 0s 33us/sample - loss: 0.7877 - accuracy: 0.5807\n",
      "Epoch 5/15\n",
      "768/768 [==============================] - 0s 34us/sample - loss: 0.7007 - accuracy: 0.6276\n",
      "Epoch 6/15\n",
      "768/768 [==============================] - 0s 34us/sample - loss: 0.6602 - accuracy: 0.6328\n",
      "Epoch 7/15\n",
      "768/768 [==============================] - 0s 35us/sample - loss: 0.6555 - accuracy: 0.6250\n",
      "Epoch 8/15\n",
      "768/768 [==============================] - 0s 34us/sample - loss: 0.6306 - accuracy: 0.6654\n",
      "Epoch 9/15\n",
      "768/768 [==============================] - 0s 35us/sample - loss: 0.6180 - accuracy: 0.6823\n",
      "Epoch 10/15\n",
      "768/768 [==============================] - 0s 34us/sample - loss: 0.6079 - accuracy: 0.6667\n",
      "Epoch 11/15\n",
      "768/768 [==============================] - 0s 35us/sample - loss: 0.5972 - accuracy: 0.6914\n",
      "Epoch 12/15\n",
      "768/768 [==============================] - 0s 35us/sample - loss: 0.6161 - accuracy: 0.6862\n",
      "Epoch 13/15\n",
      "768/768 [==============================] - 0s 35us/sample - loss: 0.6704 - accuracy: 0.6367\n",
      "Epoch 14/15\n",
      "768/768 [==============================] - 0s 35us/sample - loss: 0.6467 - accuracy: 0.6641\n",
      "Epoch 15/15\n",
      "768/768 [==============================] - 0s 35us/sample - loss: 0.6576 - accuracy: 0.6432\n"
     ]
    }
   ],
   "source": [
    "param_grid = {\n",
    "              'epochs':[15,20],\n",
    "              'batch_size':[128,256],\n",
    "              #'activation':['softmax','relu']\n",
    "              #'optimizer':['RMSprop','Adam']\n",
    "              #'epochs' :              [100,150,200],\n",
    "              #'batch_size' :          [32, 128],\n",
    "              'optimizer' :           ['Adam', 'Nadam'],\n",
    "              #'dropout_rate' :        [0.2, 0.3],\n",
    "              'activation' :          ['relu', 'elu', 'softmax']\n",
    "             }\n",
    "\n",
    "seed = 7\n",
    "numpy.random.seed(seed)\n",
    "\n",
    "dataset = numpy.loadtxt(\"pima-indians-diabetes.csv\", delimiter=\",\")\n",
    "\n",
    "X = dataset[:,0:8]\n",
    "Y = dataset[:,8]\n",
    "\n",
    "model = KerasClassifier(build_fn = build_nn, verbose=1)\n",
    "\n",
    "grid = GridSearchCV(estimator=model, param_grid=param_grid, n_jobs=-1, cv=3)\n",
    "grid_result = grid.fit(X, Y)"
   ]
  },
  {
   "cell_type": "code",
   "execution_count": 196,
   "metadata": {},
   "outputs": [
    {
     "name": "stdout",
     "output_type": "stream",
     "text": [
      "GridSearchCV(cv=3, error_score=nan,\n",
      "             estimator=<tensorflow.python.keras.wrappers.scikit_learn.KerasClassifier object at 0x7fdcc4043150>,\n",
      "             iid='deprecated', n_jobs=-1,\n",
      "             param_grid={'activation': ['relu', 'elu', 'softmax'],\n",
      "                         'batch_size': [128, 256], 'epochs': [15, 20],\n",
      "                         'optimizer': ['Adam', 'Nadam']},\n",
      "             pre_dispatch='2*n_jobs', refit=True, return_train_score=False,\n",
      "             scoring=None, verbose=0)\n",
      "{'activation': 'relu', 'batch_size': 128, 'epochs': 15, 'optimizer': 'Adam'}\n"
     ]
    }
   ],
   "source": [
    "print(grid_result)\n",
    "print(grid_result.best_params_)"
   ]
  },
  {
   "cell_type": "code",
   "execution_count": null,
   "metadata": {},
   "outputs": [],
   "source": []
  },
  {
   "cell_type": "code",
   "execution_count": null,
   "metadata": {},
   "outputs": [],
   "source": []
  },
  {
   "cell_type": "code",
   "execution_count": null,
   "metadata": {},
   "outputs": [],
   "source": []
  },
  {
   "cell_type": "markdown",
   "metadata": {},
   "source": [
    "## Exemplos de Rede Neural\n",
    "* Primeiro exemplo"
   ]
  },
  {
   "cell_type": "code",
   "execution_count": 10,
   "metadata": {},
   "outputs": [
    {
     "name": "stderr",
     "output_type": "stream",
     "text": [
      "Using TensorFlow backend.\n"
     ]
    },
    {
     "name": "stdout",
     "output_type": "stream",
     "text": [
      "Epoch 1/20\n",
      "1000/1000 [==============================] - 0s 142us/step - loss: 2.4141 - accuracy: 0.0970\n",
      "Epoch 2/20\n",
      "1000/1000 [==============================] - 0s 38us/step - loss: 2.3822 - accuracy: 0.0950\n",
      "Epoch 3/20\n",
      "1000/1000 [==============================] - 0s 36us/step - loss: 2.3366 - accuracy: 0.1070\n",
      "Epoch 4/20\n",
      "1000/1000 [==============================] - 0s 37us/step - loss: 2.3406 - accuracy: 0.0900\n",
      "Epoch 5/20\n",
      "1000/1000 [==============================] - 0s 38us/step - loss: 2.3176 - accuracy: 0.1050\n",
      "Epoch 6/20\n",
      "1000/1000 [==============================] - 0s 38us/step - loss: 2.3169 - accuracy: 0.1010\n",
      "Epoch 7/20\n",
      "1000/1000 [==============================] - 0s 38us/step - loss: 2.3077 - accuracy: 0.1120\n",
      "Epoch 8/20\n",
      "1000/1000 [==============================] - 0s 38us/step - loss: 2.3122 - accuracy: 0.1140\n",
      "Epoch 9/20\n",
      "1000/1000 [==============================] - 0s 39us/step - loss: 2.3014 - accuracy: 0.1100\n",
      "Epoch 10/20\n",
      "1000/1000 [==============================] - 0s 38us/step - loss: 2.3070 - accuracy: 0.1060\n",
      "Epoch 11/20\n",
      "1000/1000 [==============================] - 0s 39us/step - loss: 2.2943 - accuracy: 0.1160\n",
      "Epoch 12/20\n",
      "1000/1000 [==============================] - 0s 39us/step - loss: 2.3011 - accuracy: 0.1000\n",
      "Epoch 13/20\n",
      "1000/1000 [==============================] - 0s 39us/step - loss: 2.3001 - accuracy: 0.1030\n",
      "Epoch 14/20\n",
      "1000/1000 [==============================] - 0s 39us/step - loss: 2.3054 - accuracy: 0.1090\n",
      "Epoch 15/20\n",
      "1000/1000 [==============================] - 0s 38us/step - loss: 2.2998 - accuracy: 0.1160\n",
      "Epoch 16/20\n",
      "1000/1000 [==============================] - 0s 38us/step - loss: 2.3007 - accuracy: 0.1130\n",
      "Epoch 17/20\n",
      "1000/1000 [==============================] - 0s 38us/step - loss: 2.2923 - accuracy: 0.1310\n",
      "Epoch 18/20\n",
      "1000/1000 [==============================] - 0s 38us/step - loss: 2.2985 - accuracy: 0.1200\n",
      "Epoch 19/20\n",
      "1000/1000 [==============================] - 0s 38us/step - loss: 2.3014 - accuracy: 0.1100\n",
      "Epoch 20/20\n",
      "1000/1000 [==============================] - 0s 39us/step - loss: 2.2965 - accuracy: 0.1210\n",
      "100/100 [==============================] - 0s 374us/step\n"
     ]
    }
   ],
   "source": [
    "import keras\n",
    "from keras.models import Sequential\n",
    "from keras.layers import Dense, Dropout, Activation\n",
    "from keras.optimizers import SGD\n",
    "\n",
    "# Generate dummy data\n",
    "import numpy as np\n",
    "x_train = np.random.random((1000, 20))\n",
    "y_train = keras.utils.to_categorical(np.random.randint(10, size=(1000, 1)), num_classes=10)\n",
    "x_test = np.random.random((100, 20))\n",
    "y_test = keras.utils.to_categorical(np.random.randint(10, size=(100, 1)), num_classes=10)\n",
    "\n",
    "model = Sequential()\n",
    "# Dense(64) is a fully-connected layer with 64 hidden units.\n",
    "# in the first layer, you must specify the expected input data shape:\n",
    "# here, 20-dimensional vectors.\n",
    "model.add(Dense(64, activation='relu', input_dim=20))\n",
    "model.add(Dropout(0.5))\n",
    "model.add(Dense(64, activation='relu'))\n",
    "model.add(Dropout(0.5))\n",
    "model.add(Dense(10, activation='softmax'))\n",
    "\n",
    "sgd = SGD(lr=0.01, decay=1e-6, momentum=0.9, nesterov=True)\n",
    "model.compile(loss='categorical_crossentropy',\n",
    "              optimizer=sgd,\n",
    "              metrics=['accuracy'])\n",
    "\n",
    "model.fit(x_train, y_train,\n",
    "          epochs=20,\n",
    "          batch_size=128)\n",
    "score = model.evaluate(x_test, y_test, batch_size=128)"
   ]
  },
  {
   "cell_type": "markdown",
   "metadata": {},
   "source": [
    "* Segundo exemplo"
   ]
  },
  {
   "cell_type": "code",
   "execution_count": 11,
   "metadata": {},
   "outputs": [
    {
     "name": "stdout",
     "output_type": "stream",
     "text": [
      "Epoch 1/20\n",
      "1000/1000 [==============================] - 0s 178us/step - loss: 0.7135 - accuracy: 0.5200\n",
      "Epoch 2/20\n",
      "1000/1000 [==============================] - 0s 42us/step - loss: 0.7201 - accuracy: 0.5060\n",
      "Epoch 3/20\n",
      "1000/1000 [==============================] - 0s 45us/step - loss: 0.7125 - accuracy: 0.5010\n",
      "Epoch 4/20\n",
      "1000/1000 [==============================] - 0s 44us/step - loss: 0.7076 - accuracy: 0.5010\n",
      "Epoch 5/20\n",
      "1000/1000 [==============================] - 0s 45us/step - loss: 0.7091 - accuracy: 0.5000\n",
      "Epoch 6/20\n",
      "1000/1000 [==============================] - 0s 45us/step - loss: 0.6980 - accuracy: 0.5280\n",
      "Epoch 7/20\n",
      "1000/1000 [==============================] - 0s 43us/step - loss: 0.7004 - accuracy: 0.5190\n",
      "Epoch 8/20\n",
      "1000/1000 [==============================] - 0s 44us/step - loss: 0.6876 - accuracy: 0.5480\n",
      "Epoch 9/20\n",
      "1000/1000 [==============================] - 0s 44us/step - loss: 0.6975 - accuracy: 0.5120\n",
      "Epoch 10/20\n",
      "1000/1000 [==============================] - 0s 44us/step - loss: 0.6932 - accuracy: 0.5260\n",
      "Epoch 11/20\n",
      "1000/1000 [==============================] - 0s 44us/step - loss: 0.6873 - accuracy: 0.5650\n",
      "Epoch 12/20\n",
      "1000/1000 [==============================] - 0s 44us/step - loss: 0.6981 - accuracy: 0.5150\n",
      "Epoch 13/20\n",
      "1000/1000 [==============================] - 0s 45us/step - loss: 0.6902 - accuracy: 0.5320\n",
      "Epoch 14/20\n",
      "1000/1000 [==============================] - 0s 45us/step - loss: 0.6973 - accuracy: 0.5130\n",
      "Epoch 15/20\n",
      "1000/1000 [==============================] - 0s 44us/step - loss: 0.6932 - accuracy: 0.5290\n",
      "Epoch 16/20\n",
      "1000/1000 [==============================] - 0s 45us/step - loss: 0.6889 - accuracy: 0.5340\n",
      "Epoch 17/20\n",
      "1000/1000 [==============================] - 0s 45us/step - loss: 0.6911 - accuracy: 0.5220\n",
      "Epoch 18/20\n",
      "1000/1000 [==============================] - 0s 50us/step - loss: 0.6913 - accuracy: 0.5300\n",
      "Epoch 19/20\n",
      "1000/1000 [==============================] - 0s 45us/step - loss: 0.6907 - accuracy: 0.5210\n",
      "Epoch 20/20\n",
      "1000/1000 [==============================] - 0s 45us/step - loss: 0.6832 - accuracy: 0.5710\n",
      "100/100 [==============================] - 0s 331us/step\n"
     ]
    }
   ],
   "source": [
    "import numpy as np\n",
    "from keras.models import Sequential\n",
    "from keras.layers import Dense, Dropout\n",
    "\n",
    "# Generate dummy data\n",
    "x_train = np.random.random((1000, 20))\n",
    "y_train = np.random.randint(2, size=(1000, 1))\n",
    "x_test = np.random.random((100, 20))\n",
    "y_test = np.random.randint(2, size=(100, 1))\n",
    "\n",
    "model = Sequential()\n",
    "model.add(Dense(64, input_dim=20, activation='relu'))\n",
    "model.add(Dropout(0.5))\n",
    "model.add(Dense(64, activation='relu'))\n",
    "model.add(Dropout(0.5))\n",
    "model.add(Dense(1, activation='sigmoid'))\n",
    "\n",
    "model.compile(loss='binary_crossentropy',\n",
    "              optimizer='rmsprop',\n",
    "              metrics=['accuracy'])\n",
    "\n",
    "model.fit(x_train, y_train,\n",
    "          epochs=20,\n",
    "          batch_size=128)\n",
    "score = model.evaluate(x_test, y_test, batch_size=128)"
   ]
  },
  {
   "cell_type": "markdown",
   "metadata": {},
   "source": [
    "* Validação Cruzada para Avaliar Parâmetros da Rede Neural"
   ]
  },
  {
   "cell_type": "code",
   "execution_count": null,
   "metadata": {},
   "outputs": [],
   "source": []
  },
  {
   "cell_type": "markdown",
   "metadata": {},
   "source": [
    "## Obtendo valor de uma camada intermediaria"
   ]
  },
  {
   "cell_type": "code",
   "execution_count": 33,
   "metadata": {},
   "outputs": [],
   "source": [
    "import numpy as np\n",
    "from keras.models import Sequential\n",
    "from keras.layers import Dense, Dropout\n",
    "\n",
    "# Generate dummy data\n",
    "x_train = np.random.random((1000, 20))\n",
    "y_train = np.random.randint(2, size=(1000, 1))\n",
    "x_test = np.random.random((100, 20))\n",
    "y_test = np.random.randint(2, size=(100, 1))\n",
    "\n",
    "model = Sequential()\n",
    "model.add(Dense(64, input_dim=20, activation='relu'))\n",
    "model.add(Dropout(0.5))\n",
    "model.add(Dense(64, activation='relu'))\n",
    "model.add(Dropout(0.5))\n",
    "model.add(Dense(1, activation='sigmoid'))\n",
    "\n",
    "model.compile(loss='binary_crossentropy',\n",
    "              optimizer='rmsprop',\n",
    "              metrics=['accuracy'])"
   ]
  },
  {
   "cell_type": "markdown",
   "metadata": {},
   "source": [
    "## Recurso de parada antecipada\n",
    "* Parar o treino quando já tiver alcançado um determinado limiar de acurácia"
   ]
  },
  {
   "cell_type": "code",
   "execution_count": 39,
   "metadata": {},
   "outputs": [
    {
     "name": "stdout",
     "output_type": "stream",
     "text": [
      "Epoch 1/200\n",
      "1000/1000 [==============================] - 0s 46us/step - loss: 0.5689 - accuracy: 0.7150\n",
      "Epoch 2/200\n",
      "1000/1000 [==============================] - 0s 45us/step - loss: 0.5680 - accuracy: 0.7050\n",
      "Epoch 3/200\n",
      "1000/1000 [==============================] - 0s 46us/step - loss: 0.5698 - accuracy: 0.6970\n",
      "Epoch 4/200\n",
      "1000/1000 [==============================] - 0s 45us/step - loss: 0.5672 - accuracy: 0.7170\n",
      "Epoch 5/200\n",
      "1000/1000 [==============================] - 0s 44us/step - loss: 0.5804 - accuracy: 0.6980\n",
      "Epoch 6/200\n"
     ]
    },
    {
     "name": "stderr",
     "output_type": "stream",
     "text": [
      "/home/silvio/.conda/envs/DL/lib/python3.7/site-packages/keras/callbacks/callbacks.py:846: RuntimeWarning: Early stopping conditioned on metric `val_loss` which is not available. Available metrics are: loss,accuracy\n",
      "  (self.monitor, ','.join(list(logs.keys()))), RuntimeWarning\n"
     ]
    },
    {
     "name": "stdout",
     "output_type": "stream",
     "text": [
      "1000/1000 [==============================] - 0s 45us/step - loss: 0.5778 - accuracy: 0.7100\n",
      "Epoch 7/200\n",
      "1000/1000 [==============================] - 0s 45us/step - loss: 0.5595 - accuracy: 0.7350\n",
      "Epoch 8/200\n",
      "1000/1000 [==============================] - 0s 46us/step - loss: 0.5716 - accuracy: 0.7250\n",
      "Epoch 9/200\n",
      "1000/1000 [==============================] - 0s 46us/step - loss: 0.5595 - accuracy: 0.7230\n",
      "Epoch 10/200\n",
      "1000/1000 [==============================] - 0s 45us/step - loss: 0.5695 - accuracy: 0.7110\n",
      "Epoch 11/200\n",
      "1000/1000 [==============================] - 0s 45us/step - loss: 0.5685 - accuracy: 0.7060\n",
      "Epoch 12/200\n",
      "1000/1000 [==============================] - 0s 46us/step - loss: 0.5611 - accuracy: 0.7030\n",
      "Epoch 13/200\n",
      "1000/1000 [==============================] - 0s 45us/step - loss: 0.5456 - accuracy: 0.7300\n",
      "Epoch 14/200\n",
      "1000/1000 [==============================] - 0s 45us/step - loss: 0.5636 - accuracy: 0.7290\n",
      "Epoch 15/200\n",
      "1000/1000 [==============================] - 0s 45us/step - loss: 0.5628 - accuracy: 0.6960\n",
      "Epoch 16/200\n",
      "1000/1000 [==============================] - 0s 45us/step - loss: 0.5560 - accuracy: 0.7210\n",
      "Epoch 17/200\n",
      "1000/1000 [==============================] - 0s 45us/step - loss: 0.5477 - accuracy: 0.7300\n",
      "Epoch 18/200\n",
      "1000/1000 [==============================] - 0s 45us/step - loss: 0.5611 - accuracy: 0.7050\n",
      "Epoch 19/200\n",
      "1000/1000 [==============================] - 0s 46us/step - loss: 0.5509 - accuracy: 0.7160\n",
      "Epoch 20/200\n",
      "1000/1000 [==============================] - 0s 44us/step - loss: 0.5578 - accuracy: 0.7220\n",
      "Epoch 21/200\n",
      "1000/1000 [==============================] - 0s 45us/step - loss: 0.5615 - accuracy: 0.7020\n",
      "Epoch 22/200\n",
      "1000/1000 [==============================] - 0s 45us/step - loss: 0.5647 - accuracy: 0.7150\n",
      "Epoch 23/200\n",
      "1000/1000 [==============================] - 0s 45us/step - loss: 0.5364 - accuracy: 0.7290\n",
      "Epoch 24/200\n",
      "1000/1000 [==============================] - 0s 44us/step - loss: 0.5576 - accuracy: 0.7190\n",
      "Epoch 25/200\n",
      "1000/1000 [==============================] - 0s 45us/step - loss: 0.5545 - accuracy: 0.7130\n",
      "Epoch 26/200\n",
      "1000/1000 [==============================] - 0s 45us/step - loss: 0.5452 - accuracy: 0.7230\n",
      "Epoch 27/200\n",
      "1000/1000 [==============================] - 0s 45us/step - loss: 0.5431 - accuracy: 0.7280\n",
      "Epoch 28/200\n",
      "1000/1000 [==============================] - 0s 46us/step - loss: 0.5554 - accuracy: 0.7150\n",
      "Epoch 29/200\n",
      "1000/1000 [==============================] - 0s 45us/step - loss: 0.5757 - accuracy: 0.7020\n",
      "Epoch 30/200\n",
      "1000/1000 [==============================] - 0s 44us/step - loss: 0.5465 - accuracy: 0.7190\n",
      "Epoch 31/200\n",
      "1000/1000 [==============================] - 0s 45us/step - loss: 0.5550 - accuracy: 0.7280\n",
      "Epoch 32/200\n",
      "1000/1000 [==============================] - 0s 46us/step - loss: 0.5581 - accuracy: 0.7210\n",
      "Epoch 33/200\n",
      "1000/1000 [==============================] - 0s 46us/step - loss: 0.5401 - accuracy: 0.7260\n",
      "Epoch 34/200\n",
      "1000/1000 [==============================] - 0s 45us/step - loss: 0.5494 - accuracy: 0.7330\n",
      "Epoch 35/200\n",
      "1000/1000 [==============================] - 0s 45us/step - loss: 0.5671 - accuracy: 0.6890\n",
      "Epoch 36/200\n",
      "1000/1000 [==============================] - 0s 45us/step - loss: 0.5612 - accuracy: 0.7050\n",
      "Epoch 37/200\n",
      "1000/1000 [==============================] - 0s 45us/step - loss: 0.5475 - accuracy: 0.7230\n",
      "Epoch 38/200\n",
      "1000/1000 [==============================] - 0s 45us/step - loss: 0.5313 - accuracy: 0.7370\n",
      "Epoch 39/200\n",
      "1000/1000 [==============================] - 0s 46us/step - loss: 0.5522 - accuracy: 0.7020\n",
      "Epoch 40/200\n",
      "1000/1000 [==============================] - 0s 45us/step - loss: 0.5456 - accuracy: 0.7180\n",
      "Epoch 41/200\n",
      "1000/1000 [==============================] - 0s 46us/step - loss: 0.5505 - accuracy: 0.7220\n",
      "Epoch 42/200\n",
      "1000/1000 [==============================] - 0s 46us/step - loss: 0.5513 - accuracy: 0.7300\n",
      "Epoch 43/200\n",
      "1000/1000 [==============================] - 0s 45us/step - loss: 0.5462 - accuracy: 0.7270\n",
      "Epoch 44/200\n",
      "1000/1000 [==============================] - 0s 45us/step - loss: 0.5568 - accuracy: 0.7180\n",
      "Epoch 45/200\n",
      "1000/1000 [==============================] - 0s 45us/step - loss: 0.5650 - accuracy: 0.7100\n",
      "Epoch 46/200\n",
      "1000/1000 [==============================] - 0s 45us/step - loss: 0.5361 - accuracy: 0.7070\n",
      "Epoch 47/200\n",
      "1000/1000 [==============================] - 0s 46us/step - loss: 0.5311 - accuracy: 0.7370\n",
      "Epoch 48/200\n",
      "1000/1000 [==============================] - 0s 46us/step - loss: 0.5565 - accuracy: 0.7240\n",
      "Epoch 49/200\n",
      "1000/1000 [==============================] - 0s 45us/step - loss: 0.5388 - accuracy: 0.7120\n",
      "Epoch 50/200\n",
      "1000/1000 [==============================] - 0s 45us/step - loss: 0.5401 - accuracy: 0.7250\n",
      "Epoch 51/200\n",
      "1000/1000 [==============================] - 0s 45us/step - loss: 0.5410 - accuracy: 0.7330\n",
      "Epoch 52/200\n",
      "1000/1000 [==============================] - 0s 45us/step - loss: 0.5439 - accuracy: 0.7270\n",
      "Epoch 53/200\n",
      "1000/1000 [==============================] - 0s 45us/step - loss: 0.5473 - accuracy: 0.7060\n",
      "Epoch 54/200\n",
      "1000/1000 [==============================] - 0s 45us/step - loss: 0.5438 - accuracy: 0.7340\n",
      "Epoch 55/200\n",
      "1000/1000 [==============================] - 0s 45us/step - loss: 0.5258 - accuracy: 0.7470\n",
      "Epoch 56/200\n",
      "1000/1000 [==============================] - 0s 45us/step - loss: 0.5371 - accuracy: 0.7320\n",
      "Epoch 57/200\n",
      "1000/1000 [==============================] - 0s 46us/step - loss: 0.5359 - accuracy: 0.7300\n",
      "Epoch 58/200\n",
      "1000/1000 [==============================] - 0s 45us/step - loss: 0.5440 - accuracy: 0.7190\n",
      "Epoch 59/200\n",
      "1000/1000 [==============================] - 0s 45us/step - loss: 0.5228 - accuracy: 0.7390\n",
      "Epoch 60/200\n",
      "1000/1000 [==============================] - 0s 45us/step - loss: 0.5360 - accuracy: 0.7330\n",
      "Epoch 61/200\n",
      "1000/1000 [==============================] - 0s 44us/step - loss: 0.5341 - accuracy: 0.7330\n",
      "Epoch 62/200\n",
      "1000/1000 [==============================] - 0s 46us/step - loss: 0.5471 - accuracy: 0.7350\n",
      "Epoch 63/200\n",
      "1000/1000 [==============================] - 0s 45us/step - loss: 0.5384 - accuracy: 0.7310\n",
      "Epoch 64/200\n",
      "1000/1000 [==============================] - 0s 44us/step - loss: 0.5355 - accuracy: 0.7140\n",
      "Epoch 65/200\n",
      "1000/1000 [==============================] - 0s 45us/step - loss: 0.5340 - accuracy: 0.7280\n",
      "Epoch 66/200\n",
      "1000/1000 [==============================] - 0s 45us/step - loss: 0.5194 - accuracy: 0.7460\n",
      "Epoch 67/200\n",
      "1000/1000 [==============================] - 0s 45us/step - loss: 0.5380 - accuracy: 0.7230\n",
      "Epoch 68/200\n",
      "1000/1000 [==============================] - 0s 46us/step - loss: 0.5313 - accuracy: 0.7490\n",
      "Epoch 69/200\n",
      "1000/1000 [==============================] - 0s 45us/step - loss: 0.5212 - accuracy: 0.7420\n",
      "Epoch 70/200\n",
      "1000/1000 [==============================] - 0s 44us/step - loss: 0.5188 - accuracy: 0.7350\n",
      "Epoch 71/200\n",
      "1000/1000 [==============================] - 0s 44us/step - loss: 0.5473 - accuracy: 0.7190\n",
      "Epoch 72/200\n",
      "1000/1000 [==============================] - 0s 45us/step - loss: 0.5425 - accuracy: 0.7130\n",
      "Epoch 73/200\n",
      "1000/1000 [==============================] - 0s 45us/step - loss: 0.5411 - accuracy: 0.7160\n",
      "Epoch 74/200\n",
      "1000/1000 [==============================] - 0s 45us/step - loss: 0.5091 - accuracy: 0.7360\n",
      "Epoch 75/200\n",
      "1000/1000 [==============================] - 0s 45us/step - loss: 0.5390 - accuracy: 0.7220\n",
      "Epoch 76/200\n",
      "1000/1000 [==============================] - 0s 45us/step - loss: 0.5444 - accuracy: 0.7260\n",
      "Epoch 77/200\n",
      "1000/1000 [==============================] - 0s 45us/step - loss: 0.5421 - accuracy: 0.7260\n",
      "Epoch 78/200\n",
      "1000/1000 [==============================] - 0s 45us/step - loss: 0.5356 - accuracy: 0.7430\n",
      "Epoch 79/200\n",
      "1000/1000 [==============================] - 0s 45us/step - loss: 0.5314 - accuracy: 0.7270\n",
      "Epoch 80/200\n",
      "1000/1000 [==============================] - 0s 46us/step - loss: 0.5264 - accuracy: 0.7430\n",
      "Epoch 81/200\n",
      "1000/1000 [==============================] - 0s 45us/step - loss: 0.5373 - accuracy: 0.7270\n",
      "Epoch 82/200\n",
      "1000/1000 [==============================] - 0s 45us/step - loss: 0.5216 - accuracy: 0.7460\n",
      "Epoch 83/200\n",
      "1000/1000 [==============================] - 0s 45us/step - loss: 0.5082 - accuracy: 0.7460\n",
      "Epoch 84/200\n",
      "1000/1000 [==============================] - 0s 45us/step - loss: 0.5461 - accuracy: 0.7200\n",
      "Epoch 85/200\n",
      "1000/1000 [==============================] - 0s 45us/step - loss: 0.5219 - accuracy: 0.7360\n",
      "Epoch 86/200\n",
      "1000/1000 [==============================] - 0s 45us/step - loss: 0.5286 - accuracy: 0.7370\n",
      "Epoch 87/200\n",
      "1000/1000 [==============================] - 0s 45us/step - loss: 0.5087 - accuracy: 0.7620\n",
      "Epoch 88/200\n",
      "1000/1000 [==============================] - 0s 46us/step - loss: 0.5364 - accuracy: 0.7310\n",
      "Epoch 89/200\n",
      "1000/1000 [==============================] - 0s 46us/step - loss: 0.5355 - accuracy: 0.7290\n",
      "Epoch 90/200\n",
      "1000/1000 [==============================] - 0s 45us/step - loss: 0.5307 - accuracy: 0.7420\n",
      "Epoch 91/200\n",
      "1000/1000 [==============================] - 0s 46us/step - loss: 0.5394 - accuracy: 0.7300\n",
      "Epoch 92/200\n",
      "1000/1000 [==============================] - 0s 45us/step - loss: 0.5264 - accuracy: 0.7320\n",
      "Epoch 93/200\n",
      "1000/1000 [==============================] - 0s 45us/step - loss: 0.5441 - accuracy: 0.7230\n",
      "Epoch 94/200\n",
      "1000/1000 [==============================] - 0s 45us/step - loss: 0.5385 - accuracy: 0.7340\n",
      "Epoch 95/200\n",
      "1000/1000 [==============================] - 0s 46us/step - loss: 0.5229 - accuracy: 0.7420\n",
      "Epoch 96/200\n",
      "1000/1000 [==============================] - 0s 45us/step - loss: 0.5057 - accuracy: 0.7510\n",
      "Epoch 97/200\n",
      "1000/1000 [==============================] - 0s 46us/step - loss: 0.5289 - accuracy: 0.7290\n",
      "Epoch 98/200\n",
      "1000/1000 [==============================] - 0s 46us/step - loss: 0.5249 - accuracy: 0.7430\n",
      "Epoch 99/200\n",
      "1000/1000 [==============================] - 0s 45us/step - loss: 0.5106 - accuracy: 0.7530\n",
      "Epoch 100/200\n",
      "1000/1000 [==============================] - 0s 46us/step - loss: 0.5147 - accuracy: 0.7390\n",
      "Epoch 101/200\n",
      "1000/1000 [==============================] - 0s 46us/step - loss: 0.5183 - accuracy: 0.7390\n",
      "Epoch 102/200\n",
      "1000/1000 [==============================] - 0s 46us/step - loss: 0.5212 - accuracy: 0.7320\n",
      "Epoch 103/200\n",
      "1000/1000 [==============================] - 0s 45us/step - loss: 0.5433 - accuracy: 0.7430\n",
      "Epoch 104/200\n",
      "1000/1000 [==============================] - 0s 46us/step - loss: 0.5148 - accuracy: 0.7490\n",
      "Epoch 105/200\n",
      "1000/1000 [==============================] - 0s 45us/step - loss: 0.5169 - accuracy: 0.7360\n",
      "Epoch 106/200\n",
      "1000/1000 [==============================] - 0s 46us/step - loss: 0.5163 - accuracy: 0.7570\n",
      "Epoch 107/200\n",
      "1000/1000 [==============================] - 0s 45us/step - loss: 0.5066 - accuracy: 0.7470\n",
      "Epoch 108/200\n",
      "1000/1000 [==============================] - 0s 46us/step - loss: 0.5001 - accuracy: 0.7440\n",
      "Epoch 109/200\n",
      "1000/1000 [==============================] - 0s 45us/step - loss: 0.5060 - accuracy: 0.7540\n",
      "Epoch 110/200\n",
      "1000/1000 [==============================] - 0s 46us/step - loss: 0.5200 - accuracy: 0.7500\n",
      "Epoch 111/200\n",
      "1000/1000 [==============================] - 0s 45us/step - loss: 0.4991 - accuracy: 0.7540\n",
      "Epoch 112/200\n",
      "1000/1000 [==============================] - 0s 46us/step - loss: 0.5180 - accuracy: 0.7340\n",
      "Epoch 113/200\n",
      "1000/1000 [==============================] - 0s 45us/step - loss: 0.5255 - accuracy: 0.7290\n",
      "Epoch 114/200\n",
      "1000/1000 [==============================] - 0s 46us/step - loss: 0.4963 - accuracy: 0.7600\n",
      "Epoch 115/200\n",
      "1000/1000 [==============================] - 0s 46us/step - loss: 0.5240 - accuracy: 0.7350\n",
      "Epoch 116/200\n",
      "1000/1000 [==============================] - 0s 45us/step - loss: 0.4906 - accuracy: 0.7620\n",
      "Epoch 117/200\n",
      "1000/1000 [==============================] - 0s 45us/step - loss: 0.5040 - accuracy: 0.7540\n",
      "Epoch 118/200\n",
      "1000/1000 [==============================] - 0s 45us/step - loss: 0.5418 - accuracy: 0.7270\n",
      "Epoch 119/200\n",
      "1000/1000 [==============================] - 0s 45us/step - loss: 0.5135 - accuracy: 0.7360\n",
      "Epoch 120/200\n",
      "1000/1000 [==============================] - 0s 45us/step - loss: 0.5196 - accuracy: 0.7350\n",
      "Epoch 121/200\n",
      "1000/1000 [==============================] - 0s 45us/step - loss: 0.5029 - accuracy: 0.7560\n",
      "Epoch 122/200\n",
      "1000/1000 [==============================] - 0s 45us/step - loss: 0.4854 - accuracy: 0.7720\n",
      "Epoch 123/200\n",
      "1000/1000 [==============================] - 0s 45us/step - loss: 0.5246 - accuracy: 0.7380\n",
      "Epoch 124/200\n",
      "1000/1000 [==============================] - 0s 46us/step - loss: 0.5000 - accuracy: 0.7400\n",
      "Epoch 125/200\n",
      "1000/1000 [==============================] - 0s 46us/step - loss: 0.4779 - accuracy: 0.7600\n",
      "Epoch 126/200\n",
      "1000/1000 [==============================] - 0s 46us/step - loss: 0.5147 - accuracy: 0.7430\n",
      "Epoch 127/200\n",
      "1000/1000 [==============================] - 0s 45us/step - loss: 0.5209 - accuracy: 0.7300\n",
      "Epoch 128/200\n",
      "1000/1000 [==============================] - 0s 46us/step - loss: 0.5063 - accuracy: 0.7580\n",
      "Epoch 129/200\n",
      "1000/1000 [==============================] - 0s 46us/step - loss: 0.5030 - accuracy: 0.7600\n",
      "Epoch 130/200\n",
      "1000/1000 [==============================] - 0s 45us/step - loss: 0.5221 - accuracy: 0.7430\n",
      "Epoch 131/200\n",
      "1000/1000 [==============================] - 0s 45us/step - loss: 0.4924 - accuracy: 0.7740\n",
      "Epoch 132/200\n",
      "1000/1000 [==============================] - 0s 45us/step - loss: 0.5282 - accuracy: 0.7320\n",
      "Epoch 133/200\n",
      "1000/1000 [==============================] - 0s 46us/step - loss: 0.4890 - accuracy: 0.7790\n",
      "Epoch 134/200\n",
      "1000/1000 [==============================] - 0s 45us/step - loss: 0.5104 - accuracy: 0.7430\n",
      "Epoch 135/200\n",
      "1000/1000 [==============================] - 0s 45us/step - loss: 0.5043 - accuracy: 0.7610\n",
      "Epoch 136/200\n",
      "1000/1000 [==============================] - 0s 45us/step - loss: 0.5092 - accuracy: 0.7510\n",
      "Epoch 137/200\n",
      "1000/1000 [==============================] - 0s 45us/step - loss: 0.5028 - accuracy: 0.7580\n",
      "Epoch 138/200\n",
      "1000/1000 [==============================] - 0s 45us/step - loss: 0.4968 - accuracy: 0.7630\n",
      "Epoch 139/200\n",
      "1000/1000 [==============================] - 0s 45us/step - loss: 0.5223 - accuracy: 0.7470\n",
      "Epoch 140/200\n",
      "1000/1000 [==============================] - 0s 45us/step - loss: 0.5071 - accuracy: 0.7430\n",
      "Epoch 141/200\n",
      "1000/1000 [==============================] - 0s 45us/step - loss: 0.4955 - accuracy: 0.7490\n",
      "Epoch 142/200\n",
      "1000/1000 [==============================] - 0s 45us/step - loss: 0.4996 - accuracy: 0.7590\n",
      "Epoch 143/200\n",
      "1000/1000 [==============================] - 0s 45us/step - loss: 0.5072 - accuracy: 0.7570\n",
      "Epoch 144/200\n",
      "1000/1000 [==============================] - 0s 45us/step - loss: 0.5077 - accuracy: 0.7530\n",
      "Epoch 145/200\n",
      "1000/1000 [==============================] - 0s 44us/step - loss: 0.5088 - accuracy: 0.7410\n",
      "Epoch 146/200\n",
      "1000/1000 [==============================] - 0s 45us/step - loss: 0.4911 - accuracy: 0.7550\n",
      "Epoch 147/200\n",
      "1000/1000 [==============================] - 0s 46us/step - loss: 0.5138 - accuracy: 0.7430\n",
      "Epoch 148/200\n",
      "1000/1000 [==============================] - 0s 45us/step - loss: 0.5096 - accuracy: 0.7440\n",
      "Epoch 149/200\n",
      "1000/1000 [==============================] - 0s 44us/step - loss: 0.4912 - accuracy: 0.7700\n",
      "Epoch 150/200\n",
      "1000/1000 [==============================] - 0s 45us/step - loss: 0.4961 - accuracy: 0.7450\n",
      "Epoch 151/200\n",
      "1000/1000 [==============================] - 0s 45us/step - loss: 0.5211 - accuracy: 0.7280\n",
      "Epoch 152/200\n",
      "1000/1000 [==============================] - 0s 45us/step - loss: 0.4924 - accuracy: 0.7510\n",
      "Epoch 153/200\n",
      "1000/1000 [==============================] - 0s 46us/step - loss: 0.4768 - accuracy: 0.7680\n",
      "Epoch 154/200\n",
      "1000/1000 [==============================] - 0s 45us/step - loss: 0.5055 - accuracy: 0.7640\n",
      "Epoch 155/200\n",
      "1000/1000 [==============================] - 0s 45us/step - loss: 0.5105 - accuracy: 0.7610\n",
      "Epoch 156/200\n",
      "1000/1000 [==============================] - 0s 44us/step - loss: 0.4835 - accuracy: 0.7790\n",
      "Epoch 157/200\n",
      "1000/1000 [==============================] - 0s 46us/step - loss: 0.5108 - accuracy: 0.7460\n",
      "Epoch 158/200\n",
      "1000/1000 [==============================] - 0s 46us/step - loss: 0.4933 - accuracy: 0.7620\n",
      "Epoch 159/200\n",
      "1000/1000 [==============================] - 0s 46us/step - loss: 0.5024 - accuracy: 0.7660\n",
      "Epoch 160/200\n",
      "1000/1000 [==============================] - 0s 45us/step - loss: 0.5155 - accuracy: 0.7500\n",
      "Epoch 161/200\n"
     ]
    },
    {
     "name": "stdout",
     "output_type": "stream",
     "text": [
      "1000/1000 [==============================] - 0s 46us/step - loss: 0.4821 - accuracy: 0.7580\n",
      "Epoch 162/200\n",
      "1000/1000 [==============================] - 0s 44us/step - loss: 0.4906 - accuracy: 0.7680\n",
      "Epoch 163/200\n",
      "1000/1000 [==============================] - 0s 46us/step - loss: 0.5006 - accuracy: 0.7550\n",
      "Epoch 164/200\n",
      "1000/1000 [==============================] - 0s 46us/step - loss: 0.4819 - accuracy: 0.7670\n",
      "Epoch 165/200\n",
      "1000/1000 [==============================] - 0s 46us/step - loss: 0.5077 - accuracy: 0.7480\n",
      "Epoch 166/200\n",
      "1000/1000 [==============================] - 0s 45us/step - loss: 0.5145 - accuracy: 0.7530\n",
      "Epoch 167/200\n",
      "1000/1000 [==============================] - 0s 45us/step - loss: 0.4818 - accuracy: 0.7700\n",
      "Epoch 168/200\n",
      "1000/1000 [==============================] - 0s 46us/step - loss: 0.4919 - accuracy: 0.7680\n",
      "Epoch 169/200\n",
      "1000/1000 [==============================] - 0s 47us/step - loss: 0.4981 - accuracy: 0.7640\n",
      "Epoch 170/200\n",
      "1000/1000 [==============================] - 0s 46us/step - loss: 0.4809 - accuracy: 0.7630\n",
      "Epoch 171/200\n",
      "1000/1000 [==============================] - 0s 46us/step - loss: 0.4925 - accuracy: 0.7680\n",
      "Epoch 172/200\n",
      "1000/1000 [==============================] - 0s 45us/step - loss: 0.4733 - accuracy: 0.7670\n",
      "Epoch 173/200\n",
      "1000/1000 [==============================] - 0s 45us/step - loss: 0.5036 - accuracy: 0.7490\n",
      "Epoch 174/200\n",
      "1000/1000 [==============================] - 0s 45us/step - loss: 0.4989 - accuracy: 0.7620\n",
      "Epoch 175/200\n",
      "1000/1000 [==============================] - 0s 45us/step - loss: 0.4897 - accuracy: 0.7490\n",
      "Epoch 176/200\n",
      "1000/1000 [==============================] - 0s 46us/step - loss: 0.5022 - accuracy: 0.7410\n",
      "Epoch 177/200\n",
      "1000/1000 [==============================] - 0s 45us/step - loss: 0.4855 - accuracy: 0.7530\n",
      "Epoch 178/200\n",
      "1000/1000 [==============================] - 0s 45us/step - loss: 0.4664 - accuracy: 0.7810\n",
      "Epoch 179/200\n",
      "1000/1000 [==============================] - 0s 45us/step - loss: 0.4913 - accuracy: 0.7600\n",
      "Epoch 180/200\n",
      "1000/1000 [==============================] - 0s 45us/step - loss: 0.4729 - accuracy: 0.7730\n",
      "Epoch 181/200\n",
      "1000/1000 [==============================] - 0s 45us/step - loss: 0.5080 - accuracy: 0.7360\n",
      "Epoch 182/200\n",
      "1000/1000 [==============================] - 0s 45us/step - loss: 0.4943 - accuracy: 0.7550\n",
      "Epoch 183/200\n",
      "1000/1000 [==============================] - 0s 45us/step - loss: 0.5112 - accuracy: 0.7430\n",
      "Epoch 184/200\n",
      "1000/1000 [==============================] - 0s 45us/step - loss: 0.5017 - accuracy: 0.7450\n",
      "Epoch 185/200\n",
      "1000/1000 [==============================] - 0s 45us/step - loss: 0.4920 - accuracy: 0.7770\n",
      "Epoch 186/200\n",
      "1000/1000 [==============================] - 0s 45us/step - loss: 0.4813 - accuracy: 0.7660\n",
      "Epoch 187/200\n",
      "1000/1000 [==============================] - 0s 44us/step - loss: 0.5030 - accuracy: 0.7560\n",
      "Epoch 188/200\n",
      "1000/1000 [==============================] - 0s 45us/step - loss: 0.4964 - accuracy: 0.7760\n",
      "Epoch 189/200\n",
      "1000/1000 [==============================] - 0s 45us/step - loss: 0.4774 - accuracy: 0.7790\n",
      "Epoch 190/200\n",
      "1000/1000 [==============================] - 0s 45us/step - loss: 0.4975 - accuracy: 0.7580\n",
      "Epoch 191/200\n",
      "1000/1000 [==============================] - 0s 46us/step - loss: 0.4659 - accuracy: 0.7780\n",
      "Epoch 192/200\n",
      "1000/1000 [==============================] - 0s 45us/step - loss: 0.4848 - accuracy: 0.7780\n",
      "Epoch 193/200\n",
      "1000/1000 [==============================] - 0s 46us/step - loss: 0.4749 - accuracy: 0.7700\n",
      "Epoch 194/200\n",
      "1000/1000 [==============================] - 0s 46us/step - loss: 0.4729 - accuracy: 0.7750\n",
      "Epoch 195/200\n",
      "1000/1000 [==============================] - 0s 45us/step - loss: 0.4861 - accuracy: 0.7680\n",
      "Epoch 196/200\n",
      "1000/1000 [==============================] - 0s 46us/step - loss: 0.4809 - accuracy: 0.7630\n",
      "Epoch 197/200\n",
      "1000/1000 [==============================] - 0s 45us/step - loss: 0.4841 - accuracy: 0.7530\n",
      "Epoch 198/200\n",
      "1000/1000 [==============================] - 0s 46us/step - loss: 0.5057 - accuracy: 0.7410\n",
      "Epoch 199/200\n",
      "1000/1000 [==============================] - 0s 45us/step - loss: 0.4814 - accuracy: 0.7740\n",
      "Epoch 200/200\n",
      "1000/1000 [==============================] - 0s 46us/step - loss: 0.4612 - accuracy: 0.7830\n",
      "100/100 [==============================] - 0s 26us/step\n"
     ]
    }
   ],
   "source": [
    "from keras.callbacks import EarlyStopping\n",
    "early_stopping = EarlyStopping(monitor='val_loss', patience=2)\n",
    "\n",
    "#model.fit(x, y, validation_split=0.2, callbacks=[early_stopping])\n",
    "history=model.fit(x_train, y_train,\n",
    "          epochs=200,\n",
    "          batch_size=128, callbacks=[early_stopping])\n",
    "score = model.evaluate(x_test, y_test, batch_size=128)\n",
    "\n"
   ]
  },
  {
   "cell_type": "code",
   "execution_count": null,
   "metadata": {},
   "outputs": [],
   "source": []
  },
  {
   "cell_type": "code",
   "execution_count": 35,
   "metadata": {},
   "outputs": [
    {
     "name": "stdout",
     "output_type": "stream",
     "text": [
      "Epoch 1/20\n",
      "1000/1000 [==============================] - 0s 42us/step - loss: 0.5714 - accuracy: 0.7020\n",
      "Epoch 2/20\n",
      "1000/1000 [==============================] - 0s 41us/step - loss: 0.5767 - accuracy: 0.6920\n",
      "Epoch 3/20\n",
      "1000/1000 [==============================] - 0s 42us/step - loss: 0.6023 - accuracy: 0.6820\n",
      "Epoch 4/20\n",
      "1000/1000 [==============================] - 0s 42us/step - loss: 0.5710 - accuracy: 0.7000\n",
      "Epoch 5/20\n",
      "1000/1000 [==============================] - 0s 41us/step - loss: 0.5812 - accuracy: 0.6900\n",
      "Epoch 6/20\n",
      "1000/1000 [==============================] - 0s 41us/step - loss: 0.5738 - accuracy: 0.7010\n",
      "Epoch 7/20\n",
      "1000/1000 [==============================] - 0s 41us/step - loss: 0.5767 - accuracy: 0.7130\n",
      "Epoch 8/20\n",
      "1000/1000 [==============================] - 0s 41us/step - loss: 0.5790 - accuracy: 0.6970\n",
      "Epoch 9/20\n",
      "1000/1000 [==============================] - 0s 41us/step - loss: 0.5874 - accuracy: 0.6920\n",
      "Epoch 10/20\n",
      "1000/1000 [==============================] - 0s 42us/step - loss: 0.5701 - accuracy: 0.6990\n",
      "Epoch 11/20\n",
      "1000/1000 [==============================] - 0s 41us/step - loss: 0.5810 - accuracy: 0.7060\n",
      "Epoch 12/20\n",
      "1000/1000 [==============================] - 0s 41us/step - loss: 0.5832 - accuracy: 0.7050\n",
      "Epoch 13/20\n",
      "1000/1000 [==============================] - 0s 41us/step - loss: 0.5670 - accuracy: 0.7210\n",
      "Epoch 14/20\n",
      "1000/1000 [==============================] - 0s 41us/step - loss: 0.5711 - accuracy: 0.7140\n",
      "Epoch 15/20\n",
      "1000/1000 [==============================] - 0s 41us/step - loss: 0.5474 - accuracy: 0.7120\n",
      "Epoch 16/20\n",
      "1000/1000 [==============================] - 0s 41us/step - loss: 0.5612 - accuracy: 0.7130\n",
      "Epoch 17/20\n",
      "1000/1000 [==============================] - 0s 40us/step - loss: 0.5664 - accuracy: 0.6990\n",
      "Epoch 18/20\n",
      "1000/1000 [==============================] - 0s 41us/step - loss: 0.5673 - accuracy: 0.7060\n",
      "Epoch 19/20\n",
      "1000/1000 [==============================] - 0s 41us/step - loss: 0.5733 - accuracy: 0.6990\n",
      "Epoch 20/20\n",
      "1000/1000 [==============================] - 0s 41us/step - loss: 0.5881 - accuracy: 0.6760\n",
      "100/100 [==============================] - 0s 21us/step\n"
     ]
    }
   ],
   "source": [
    "history=model.fit(x_train, y_train,\n",
    "          epochs=20,\n",
    "          batch_size=128)\n",
    "score = model.evaluate(x_test, y_test, batch_size=128)"
   ]
  },
  {
   "cell_type": "code",
   "execution_count": 62,
   "metadata": {},
   "outputs": [
    {
     "name": "stderr",
     "output_type": "stream",
     "text": [
      "No handles with labels found to put in legend.\n"
     ]
    },
    {
     "data": {
      "image/png": "[encoded data removed]",
      "text/plain": [
       "<Figure size 432x288 with 2 Axes>"
      ]
     },
     "metadata": {
      "needs_background": "light"
     },
     "output_type": "display_data"
    },
    {
     "data": {
      "image/png": "[encoded data removed]",
      "text/plain": [
       "<Figure size 432x288 with 1 Axes>"
      ]
     },
     "metadata": {
      "needs_background": "light"
     },
     "output_type": "display_data"
    },
    {
     "data": {
      "image/png": "[encoded data removed]",
      "text/plain": [
       "<Figure size 432x288 with 1 Axes>"
      ]
     },
     "metadata": {
      "needs_background": "light"
     },
     "output_type": "display_data"
    }
   ],
   "source": []
  },
  {
   "cell_type": "code",
   "execution_count": null,
   "metadata": {},
   "outputs": [],
   "source": []
  },
  {
   "cell_type": "code",
   "execution_count": 89,
   "metadata": {},
   "outputs": [
    {
     "data": {
      "text/plain": [
       "[Text(0.5, 15.000000000000028, 'Época')]"
      ]
     },
     "execution_count": 89,
     "metadata": {},
     "output_type": "execute_result"
    },
    {
     "data": {
      "image/png": "[encoded data removed]",
      "text/plain": [
       "<Figure size 432x288 with 2 Axes>"
      ]
     },
     "metadata": {
      "needs_background": "light"
     },
     "output_type": "display_data"
    }
   ],
   "source": [
    "\n",
    "\n",
    "\n"
   ]
  },
  {
   "cell_type": "code",
   "execution_count": null,
   "metadata": {},
   "outputs": [],
   "source": []
  },
  {
   "cell_type": "code",
   "execution_count": null,
   "metadata": {},
   "outputs": [],
   "source": []
  },
  {
   "cell_type": "markdown",
   "metadata": {},
   "source": [
    "## O que significa \"amostra\", \"lote\", \"época\"?\n",
    "\n",
    "\n",
    "* Amostra: um elemento de um conjunto de dados.\n",
    "Exemplo: uma imagem é uma amostra em uma rede convolucional\n",
    "Exemplo: um arquivo de áudio é uma amostra para um modelo de reconhecimento de fala\n",
    "\n",
    "* Lote: um conjunto de N amostras. As amostras em um lote são processadas independentemente, em paralelo. Se estiver treinando, um lote resultará em apenas uma atualização para o modelo.\n",
    "Um lote geralmente aproxima a distribuição dos dados de entrada melhor do que uma única entrada. Quanto maior o lote, melhor a aproximação; no entanto, também é verdade que o lote levará mais tempo para processar e ainda resultará em apenas uma atualização. Para inferência (avaliação / previsão), é recomendável escolher um tamanho de lote tão grande quanto você puder pagar sem ficar sem memória (pois lotes maiores geralmente resultam em uma avaliação / previsão mais rápida).\n",
    "\n",
    "* Época: um ponto de corte arbitrário, geralmente definido como \"uma passagem por todo o conjunto de dados\", usado para separar o treinamento em fases distintas, o que é útil para registro e avaliação periódica.\n",
    "Ao usar validation_data ou validation_split com o método de ajuste dos modelos Keras, a avaliação será executada no final de cada época.\n",
    "No Keras, há a capacidade de adicionar retornos de chamada projetados especificamente para serem executados no final de uma época. Exemplos disso são mudanças na taxa de aprendizado e verificação de modelo (salvamento).\n"
   ]
  },
  {
   "cell_type": "code",
   "execution_count": null,
   "metadata": {},
   "outputs": [],
   "source": []
  },
  {
   "cell_type": "markdown",
   "metadata": {},
   "source": [
    "## Escolhendo algoritmos de otimização de modelo\n",
    "\n",
    "* Os algoritmos de otimização que usam todo o conjunto de treinamento são chamados métodos em lote ou gradiente determinístico, porque processam todos os exemplos de treinamento simultaneamente em um lote grande.\n",
    "\n",
    "* Algoritmos de otimização que usam apenas um único exemplo de cada vez são chamados de métodos estocásticos ou, às vezes, online. O termo online geralmente é reservado para o caso em que os exemplos são extraídos de um fluxo de exemplos criados continuamente, e não de um conjunto de treinamento de tamanho fixo sobre o qual são feitas várias passagens.\n",
    "\n",
    "* Batch Gradient Descent. O tamanho do batch é definido como o número total de exemplos no conjunto de dados de treinamento.\n",
    "* Stochastic Gradient Descent. O tamanho do batch é igual a 1\n",
    "* Minibatch Gradient Descent. O tamanho do batch é definido como mais de um e menor que o número total de exemplos no conjunto de dados de treinamento."
   ]
  },
  {
   "cell_type": "markdown",
   "metadata": {},
   "source": [
    "# Abaixo o treino é feito usando Batch Gradient Descent. \n"
   ]
  },
  {
   "cell_type": "code",
   "execution_count": null,
   "metadata": {},
   "outputs": [],
   "source": [
    "# mlp for the blobs problem with batch gradient descent\n",
    "from sklearn.datasets import make_blobs\n",
    "from keras.layers import Dense\n",
    "from keras.models import Sequential\n",
    "from keras.optimizers import SGD\n",
    "from keras.utils import to_categorical\n",
    "from matplotlib import pyplot\n",
    "# generate 2d classification dataset\n",
    "X, y = make_blobs(n_samples=1000, centers=3, n_features=2, cluster_std=2, random_state=2)\n",
    "# one hot encode output variable\n",
    "y = to_categorical(y)\n",
    "# split into train and test\n",
    "n_train = 500\n",
    "trainX, testX = X[:n_train, :], X[n_train:, :]\n",
    "trainy, testy = y[:n_train], y[n_train:]\n",
    "# define model\n",
    "model = Sequential()\n",
    "model.add(Dense(50, input_dim=2, activation='relu', kernel_initializer='he_uniform'))\n",
    "model.add(Dense(3, activation='softmax'))\n",
    "# compile model\n",
    "opt = SGD(lr=0.01, momentum=0.9)\n",
    "model.compile(loss='categorical_crossentropy', optimizer=opt, metrics=['accuracy'])\n",
    "# fit model\n",
    "history = model.fit(trainX, trainy, validation_data=(testX, testy), epochs=200, verbose=0, batch_size=len(trainX))\n",
    "# evaluate the model\n",
    "_, train_acc = model.evaluate(trainX, trainy, verbose=0)\n",
    "_, test_acc = model.evaluate(testX, testy, verbose=0)\n",
    "print('Train: %.3f, Test: %.3f' % (train_acc, test_acc))\n"
   ]
  },
  {
   "cell_type": "code",
   "execution_count": null,
   "metadata": {},
   "outputs": [],
   "source": [
    "# plot training history\n",
    "pyplot.plot(history.history['accuracy'], label='train')\n",
    "pyplot.plot(history.history['val_accuracy'], label='test')\n",
    "pyplot.legend()\n",
    "pyplot.show()"
   ]
  },
  {
   "cell_type": "markdown",
   "metadata": {},
   "source": [
    "* A execução do exemplo primeiro relata o desempenho do modelo nos conjuntos de dados de trem e teste.\n",
    "* Seus resultados específicos podem variar de acordo com a natureza estocástica do algoritmo de aprendizado; considere executar o exemplo algumas vezes.\n",
    "* Nesse caso, podemos ver que o desempenho foi semelhante entre os conjuntos de trens e testes com 81% e 83%, respectivamente.\n",
    "* O resultado do treino mostra que o acurácia estabilizou a partir da época 100"
   ]
  },
  {
   "cell_type": "markdown",
   "metadata": {},
   "source": [
    "# Rodando com batch igual a 1"
   ]
  },
  {
   "cell_type": "code",
   "execution_count": null,
   "metadata": {},
   "outputs": [],
   "source": [
    "# mlp for the blobs problem with batch gradient descent\n",
    "from sklearn.datasets import make_blobs\n",
    "from keras.layers import Dense\n",
    "from keras.models import Sequential\n",
    "from keras.optimizers import SGD\n",
    "from keras.utils import to_categorical\n",
    "from matplotlib import pyplot\n",
    "# generate 2d classification dataset\n",
    "X, y = make_blobs(n_samples=1000, centers=3, n_features=2, cluster_std=2, random_state=2)\n",
    "# one hot encode output variable\n",
    "y = to_categorical(y)\n",
    "# split into train and test\n",
    "n_train = 500\n",
    "trainX, testX = X[:n_train, :], X[n_train:, :]\n",
    "trainy, testy = y[:n_train], y[n_train:]\n",
    "# define model\n",
    "model = Sequential()\n",
    "model.add(Dense(50, input_dim=2, activation='relu', kernel_initializer='he_uniform'))\n",
    "model.add(Dense(3, activation='softmax'))\n",
    "# compile model\n",
    "opt = SGD(lr=0.01, momentum=0.9)\n",
    "model.compile(loss='categorical_crossentropy', optimizer=opt, metrics=['accuracy'])\n",
    "# fit model\n",
    "history = model.fit(trainX, trainy, validation_data=(testX, testy), epochs=200, verbose=0, batch_size=1)\n",
    "# evaluate the model\n",
    "_, train_acc = model.evaluate(trainX, trainy, verbose=0)\n",
    "_, test_acc = model.evaluate(testX, testy, verbose=0)\n",
    "print('Train: %.3f, Test: %.3f' % (train_acc, test_acc))"
   ]
  },
  {
   "cell_type": "code",
   "execution_count": null,
   "metadata": {},
   "outputs": [],
   "source": [
    "# plot training history\n",
    "pyplot.plot(history.history['accuracy'], label='train')\n",
    "pyplot.plot(history.history['val_accuracy'], label='test')\n",
    "pyplot.legend()\n",
    "pyplot.show()"
   ]
  },
  {
   "cell_type": "markdown",
   "metadata": {},
   "source": [
    "# A instabilidade do modelo sugere que o learning rate pode não estar adequado"
   ]
  },
  {
   "cell_type": "code",
   "execution_count": null,
   "metadata": {},
   "outputs": [],
   "source": [
    "# mlp for the blobs problem with stochastic gradient descent\n",
    "from sklearn.datasets import make_blobs\n",
    "from keras.layers import Dense\n",
    "from keras.models import Sequential\n",
    "from keras.optimizers import SGD\n",
    "from keras.utils import to_categorical\n",
    "from matplotlib import pyplot\n",
    "# generate 2d classification dataset\n",
    "X, y = make_blobs(n_samples=1000, centers=3, n_features=2, cluster_std=2, random_state=2)\n",
    "# one hot encode output variable\n",
    "y = to_categorical(y)\n",
    "# split into train and test\n",
    "n_train = 500\n",
    "trainX, testX = X[:n_train, :], X[n_train:, :]\n",
    "trainy, testy = y[:n_train], y[n_train:]\n",
    "# define model\n",
    "model = Sequential()\n",
    "model.add(Dense(50, input_dim=2, activation='relu', kernel_initializer='he_uniform'))\n",
    "model.add(Dense(3, activation='softmax'))\n",
    "# compile model\n",
    "opt = SGD(lr=0.001, momentum=0.9)\n",
    "model.compile(loss='categorical_crossentropy', optimizer=opt, metrics=['accuracy'])\n",
    "# fit model\n",
    "history = model.fit(trainX, trainy, validation_data=(testX, testy), epochs=200, verbose=0, batch_size=1)\n",
    "# evaluate the model\n",
    "_, train_acc = model.evaluate(trainX, trainy, verbose=0)\n",
    "_, test_acc = model.evaluate(testX, testy, verbose=0)\n",
    "print('Train: %.3f, Test: %.3f' % (train_acc, test_acc))\n",
    "# plot training history\n",
    "pyplot.plot(history.history['accuracy'], label='train')\n",
    "pyplot.plot(history.history['val_accuracy'], label='test')\n",
    "pyplot.legend()\n",
    "pyplot.show()"
   ]
  },
  {
   "cell_type": "markdown",
   "metadata": {},
   "source": [
    "# Treinando modelo usando mini-batch"
   ]
  },
  {
   "cell_type": "code",
   "execution_count": null,
   "metadata": {},
   "outputs": [],
   "source": [
    "# mlp for the blobs problem with minibatch gradient descent\n",
    "from sklearn.datasets import make_blobs\n",
    "from keras.layers import Dense\n",
    "from keras.models import Sequential\n",
    "from keras.optimizers import SGD\n",
    "from keras.utils import to_categorical\n",
    "from matplotlib import pyplot\n",
    "# generate 2d classification dataset\n",
    "X, y = make_blobs(n_samples=1000, centers=3, n_features=2, cluster_std=2, random_state=2)\n",
    "# one hot encode output variable\n",
    "y = to_categorical(y)\n",
    "# split into train and test\n",
    "n_train = 500\n",
    "trainX, testX = X[:n_train, :], X[n_train:, :]\n",
    "trainy, testy = y[:n_train], y[n_train:]\n",
    "# define model\n",
    "model = Sequential()\n",
    "model.add(Dense(50, input_dim=2, activation='relu', kernel_initializer='he_uniform'))\n",
    "model.add(Dense(3, activation='softmax'))\n",
    "# compile model\n",
    "opt = SGD(lr=0.01, momentum=0.9)\n",
    "model.compile(loss='categorical_crossentropy', optimizer=opt, metrics=['accuracy'])\n",
    "# fit model\n",
    "history = model.fit(trainX, trainy, validation_data=(testX, testy), epochs=200, verbose=0, batch_size=32)\n",
    "# evaluate the model\n",
    "_, train_acc = model.evaluate(trainX, trainy, verbose=0)\n",
    "_, test_acc = model.evaluate(testX, testy, verbose=0)\n",
    "print('Train: %.3f, Test: %.3f' % (train_acc, test_acc))\n",
    "# plot training history\n",
    "pyplot.plot(history.history['accuracy'], label='train')\n",
    "pyplot.plot(history.history['val_accuracy'], label='test')\n",
    "pyplot.legend()\n",
    "pyplot.show()"
   ]
  },
  {
   "cell_type": "code",
   "execution_count": null,
   "metadata": {},
   "outputs": [],
   "source": []
  },
  {
   "cell_type": "code",
   "execution_count": null,
   "metadata": {},
   "outputs": [],
   "source": []
  },
  {
   "cell_type": "code",
   "execution_count": null,
   "metadata": {},
   "outputs": [],
   "source": []
  }
 ],
 "metadata": {
  "kernelspec": {
   "display_name": "Python 3",
   "language": "python",
   "name": "python3"
  },
  "language_info": {
   "codemirror_mode": {
    "name": "ipython",
    "version": 3
   },
   "file_extension": ".py",
   "mimetype": "text/x-python",
   "name": "python",
   "nbconvert_exporter": "python",
   "pygments_lexer": "ipython3",
   "version": "3.7.7"
  }
 },
 "nbformat": 4,
 "nbformat_minor": 4
}
